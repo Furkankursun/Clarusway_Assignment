{
 "cells": [
  {
   "cell_type": "code",
   "execution_count": 1,
   "id": "33d8f859",
   "metadata": {
    "ExecuteTime": {
     "end_time": "2022-09-08T13:26:02.258517Z",
     "start_time": "2022-09-08T13:26:01.863685Z"
    }
   },
   "outputs": [],
   "source": [
    "import numpy as np\n",
    "from scipy import stats "
   ]
  },
  {
   "cell_type": "raw",
   "id": "20fa9e55",
   "metadata": {},
   "source": [
    "EXERCISE 1. Suppose scores on exams in statistics are normally distributed with an unknown population mean and a population standard deviation of 3 points. A random sample of 36 scores is taken and gives a sample mean (sample  mean score) of 68. Find a confidence interval estimate for the population mean exam score (the mean score on all exams).\n",
    "\n",
    "Find a 90% confidence interval for the true (population) mean of statistics exam scores."
   ]
  },
  {
   "cell_type": "code",
   "execution_count": 2,
   "id": "037195ab",
   "metadata": {
    "ExecuteTime": {
     "end_time": "2022-09-08T13:26:02.274514Z",
     "start_time": "2022-09-08T13:26:02.259522Z"
    }
   },
   "outputs": [],
   "source": [
    "std = 3\n",
    "n = 36\n",
    "ci = 90\n",
    "sms= 68"
   ]
  },
  {
   "cell_type": "code",
   "execution_count": 3,
   "id": "2299133d",
   "metadata": {
    "ExecuteTime": {
     "end_time": "2022-09-08T13:26:02.290513Z",
     "start_time": "2022-09-08T13:26:02.275521Z"
    }
   },
   "outputs": [],
   "source": [
    "z_85 = 1.440\n",
    "\n",
    "z_90 = 1.645\n",
    "\n",
    "z_95 = 1.960\n",
    "\n",
    "z_99 = 2.576"
   ]
  },
  {
   "cell_type": "code",
   "execution_count": 4,
   "id": "581a06fe",
   "metadata": {
    "ExecuteTime": {
     "end_time": "2022-09-08T13:26:02.306517Z",
     "start_time": "2022-09-08T13:26:02.291517Z"
    }
   },
   "outputs": [
    {
     "data": {
      "text/plain": [
       "0.5"
      ]
     },
     "execution_count": 4,
     "metadata": {},
     "output_type": "execute_result"
    }
   ],
   "source": [
    "sem = std/np.sqrt(n) #hata\n",
    "sem"
   ]
  },
  {
   "cell_type": "code",
   "execution_count": 5,
   "id": "8920f706",
   "metadata": {
    "ExecuteTime": {
     "end_time": "2022-09-08T13:26:02.322488Z",
     "start_time": "2022-09-08T13:26:02.307532Z"
    }
   },
   "outputs": [
    {
     "data": {
      "text/plain": [
       "0.8225"
      ]
     },
     "execution_count": 5,
     "metadata": {},
     "output_type": "execute_result"
    }
   ],
   "source": [
    "moe = z_90 * sem\n",
    "moe"
   ]
  },
  {
   "cell_type": "code",
   "execution_count": 6,
   "id": "18220533",
   "metadata": {
    "ExecuteTime": {
     "end_time": "2022-09-08T13:26:02.338517Z",
     "start_time": "2022-09-08T13:26:02.323489Z"
    }
   },
   "outputs": [
    {
     "data": {
      "text/plain": [
       "67.1775"
      ]
     },
     "execution_count": 6,
     "metadata": {},
     "output_type": "execute_result"
    }
   ],
   "source": [
    "lower_limit = sms - moe\n",
    "lower_limit"
   ]
  },
  {
   "cell_type": "code",
   "execution_count": 7,
   "id": "aa88932c",
   "metadata": {
    "ExecuteTime": {
     "end_time": "2022-09-08T13:26:02.353509Z",
     "start_time": "2022-09-08T13:26:02.339488Z"
    }
   },
   "outputs": [
    {
     "data": {
      "text/plain": [
       "68.8225"
      ]
     },
     "execution_count": 7,
     "metadata": {},
     "output_type": "execute_result"
    }
   ],
   "source": [
    "upper_limit = sms + moe\n",
    "upper_limit"
   ]
  },
  {
   "cell_type": "code",
   "execution_count": 8,
   "id": "f474a1eb",
   "metadata": {
    "ExecuteTime": {
     "end_time": "2022-09-08T13:26:02.369512Z",
     "start_time": "2022-09-08T13:26:02.354490Z"
    }
   },
   "outputs": [
    {
     "data": {
      "text/plain": [
       "(67.17757318652427, 68.82242681347573)"
      ]
     },
     "execution_count": 8,
     "metadata": {},
     "output_type": "execute_result"
    }
   ],
   "source": [
    "stats.norm.interval(alpha=0.90, loc=sms, scale=sem)"
   ]
  },
  {
   "cell_type": "raw",
   "id": "30d11552",
   "metadata": {},
   "source": [
    "EXERCISE 2. What is the normal body temperature for healthy humans? A random sample of 130 healthy human body temperatures provided by Allen Shoemaker7 yielded 98.25 degrees and standard deviation 0.73 degrees. \n",
    "\n",
    "Give a 99% confidence interval for the average body temperature of healthy people."
   ]
  },
  {
   "cell_type": "code",
   "execution_count": 9,
   "id": "570f4ae1",
   "metadata": {
    "ExecuteTime": {
     "end_time": "2022-09-08T13:26:02.385517Z",
     "start_time": "2022-09-08T13:26:02.370517Z"
    }
   },
   "outputs": [],
   "source": [
    "std_2 = 0.73 \n",
    "sms_2 = 98.25\n",
    "n_2 = 130\n",
    "ci_2 = 99\n"
   ]
  },
  {
   "cell_type": "code",
   "execution_count": 21,
   "id": "e417c8a5",
   "metadata": {
    "ExecuteTime": {
     "end_time": "2022-09-08T13:27:50.536025Z",
     "start_time": "2022-09-08T13:27:50.522031Z"
    }
   },
   "outputs": [
    {
     "data": {
      "text/plain": [
       "0.06402523540941313"
      ]
     },
     "execution_count": 21,
     "metadata": {},
     "output_type": "execute_result"
    }
   ],
   "source": [
    "sem_2 = std_2/np.sqrt(n_2)  # hata\n",
    "sem_2"
   ]
  },
  {
   "cell_type": "code",
   "execution_count": 22,
   "id": "f269105d",
   "metadata": {
    "ExecuteTime": {
     "end_time": "2022-09-08T13:27:51.950775Z",
     "start_time": "2022-09-08T13:27:51.932776Z"
    }
   },
   "outputs": [
    {
     "data": {
      "text/plain": [
       "0.16492900641464822"
      ]
     },
     "execution_count": 22,
     "metadata": {},
     "output_type": "execute_result"
    }
   ],
   "source": [
    "moe_2 = z_99 * sem_2\n",
    "moe_2"
   ]
  },
  {
   "cell_type": "code",
   "execution_count": 23,
   "id": "b07b0cdb",
   "metadata": {
    "ExecuteTime": {
     "end_time": "2022-09-08T13:27:53.441514Z",
     "start_time": "2022-09-08T13:27:53.423514Z"
    }
   },
   "outputs": [
    {
     "data": {
      "text/plain": [
       "98.08507099358535"
      ]
     },
     "execution_count": 23,
     "metadata": {},
     "output_type": "execute_result"
    }
   ],
   "source": [
    "lower_limit = sms_2 - moe_2\n",
    "lower_limit"
   ]
  },
  {
   "cell_type": "code",
   "execution_count": 24,
   "id": "26fa79d5",
   "metadata": {
    "ExecuteTime": {
     "end_time": "2022-09-08T13:27:55.003770Z",
     "start_time": "2022-09-08T13:27:54.992699Z"
    }
   },
   "outputs": [
    {
     "data": {
      "text/plain": [
       "98.41492900641465"
      ]
     },
     "execution_count": 24,
     "metadata": {},
     "output_type": "execute_result"
    }
   ],
   "source": [
    "upper_limit = sms_2 + moe_2\n",
    "upper_limit"
   ]
  },
  {
   "cell_type": "code",
   "execution_count": 25,
   "id": "51022add",
   "metadata": {
    "ExecuteTime": {
     "end_time": "2022-09-08T13:27:56.732438Z",
     "start_time": "2022-09-08T13:27:56.717438Z"
    }
   },
   "outputs": [
    {
     "data": {
      "text/plain": [
       "(98.08508192246582, 98.41491807753418)"
      ]
     },
     "execution_count": 25,
     "metadata": {},
     "output_type": "execute_result"
    }
   ],
   "source": [
    "stats.norm.interval(alpha=0.99, loc=sms_2, scale=sem_2)"
   ]
  },
  {
   "cell_type": "raw",
   "id": "8cf5cd45",
   "metadata": {},
   "source": [
    "EXERCISE 3. The administrators for a hospital wished to estimate the average number of days required for inpatient treatment of patients between the ages of 25 and 34. A random sample of 500 hospital patients between these ages produced a mean and standard deviation equal to 5.4 and 3.1 days, respectively.\n",
    "Construct a 95% confidence interval for the mean length of stay for the population of patients from which the sample was drawn."
   ]
  },
  {
   "cell_type": "code",
   "execution_count": 15,
   "id": "38806de8",
   "metadata": {
    "ExecuteTime": {
     "end_time": "2022-09-08T13:26:02.481487Z",
     "start_time": "2022-09-08T13:26:02.466489Z"
    }
   },
   "outputs": [],
   "source": [
    "std_3 = 5.4\n",
    "sms_3= 3.1\n",
    "n_3 = 500\n",
    "ci_3 = 95"
   ]
  },
  {
   "cell_type": "code",
   "execution_count": 26,
   "id": "fc16c608",
   "metadata": {
    "ExecuteTime": {
     "end_time": "2022-09-08T13:28:06.417202Z",
     "start_time": "2022-09-08T13:28:06.398221Z"
    }
   },
   "outputs": [
    {
     "data": {
      "text/plain": [
       "0.2414953415699773"
      ]
     },
     "execution_count": 26,
     "metadata": {},
     "output_type": "execute_result"
    }
   ],
   "source": [
    "sem_3 = std_3/np.sqrt(n_3)  # hata\n",
    "sem_3"
   ]
  },
  {
   "cell_type": "code",
   "execution_count": 27,
   "id": "e1e6c30f",
   "metadata": {
    "ExecuteTime": {
     "end_time": "2022-09-08T13:28:07.756448Z",
     "start_time": "2022-09-08T13:28:07.744015Z"
    }
   },
   "outputs": [
    {
     "data": {
      "text/plain": [
       "0.47333086947715547"
      ]
     },
     "execution_count": 27,
     "metadata": {},
     "output_type": "execute_result"
    }
   ],
   "source": [
    "moe_3 = z_95 * sem_3\n",
    "moe_3"
   ]
  },
  {
   "cell_type": "code",
   "execution_count": 28,
   "id": "5282a2e0",
   "metadata": {
    "ExecuteTime": {
     "end_time": "2022-09-08T13:28:08.470588Z",
     "start_time": "2022-09-08T13:28:08.453491Z"
    }
   },
   "outputs": [
    {
     "data": {
      "text/plain": [
       "2.6266691305228447"
      ]
     },
     "execution_count": 28,
     "metadata": {},
     "output_type": "execute_result"
    }
   ],
   "source": [
    "lower_limit = sms_3 - moe_3\n",
    "lower_limit"
   ]
  },
  {
   "cell_type": "code",
   "execution_count": 29,
   "id": "2cf1186e",
   "metadata": {
    "ExecuteTime": {
     "end_time": "2022-09-08T13:28:09.509654Z",
     "start_time": "2022-09-08T13:28:09.495655Z"
    }
   },
   "outputs": [
    {
     "data": {
      "text/plain": [
       "3.5733308694771555"
      ]
     },
     "execution_count": 29,
     "metadata": {},
     "output_type": "execute_result"
    }
   ],
   "source": [
    "upper_limit = sms_3 + moe_3\n",
    "upper_limit"
   ]
  },
  {
   "cell_type": "code",
   "execution_count": 30,
   "id": "eb35e6bc",
   "metadata": {
    "ExecuteTime": {
     "end_time": "2022-09-08T13:28:10.644568Z",
     "start_time": "2022-09-08T13:28:10.631438Z"
    }
   },
   "outputs": [
    {
     "data": {
      "text/plain": [
       "(2.626677828088646, 3.573322171911354)"
      ]
     },
     "execution_count": 30,
     "metadata": {},
     "output_type": "execute_result"
    }
   ],
   "source": [
    "stats.norm.interval(alpha=0.95, loc=sms_3, scale=sem_3)"
   ]
  },
  {
   "cell_type": "code",
   "execution_count": null,
   "id": "9da500b0",
   "metadata": {},
   "outputs": [],
   "source": []
  }
 ],
 "metadata": {
  "kernelspec": {
   "display_name": "Python 3 (ipykernel)",
   "language": "python",
   "name": "python3"
  },
  "language_info": {
   "codemirror_mode": {
    "name": "ipython",
    "version": 3
   },
   "file_extension": ".py",
   "mimetype": "text/x-python",
   "name": "python",
   "nbconvert_exporter": "python",
   "pygments_lexer": "ipython3",
   "version": "3.9.7"
  },
  "toc": {
   "base_numbering": 1,
   "nav_menu": {},
   "number_sections": true,
   "sideBar": true,
   "skip_h1_title": false,
   "title_cell": "Table of Contents",
   "title_sidebar": "Contents",
   "toc_cell": false,
   "toc_position": {},
   "toc_section_display": true,
   "toc_window_display": false
  }
 },
 "nbformat": 4,
 "nbformat_minor": 5
}
